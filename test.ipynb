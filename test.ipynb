{
 "cells": [
  {
   "cell_type": "code",
   "execution_count": 2,
   "metadata": {},
   "outputs": [],
   "source": [
    "import numpy as np"
   ]
  },
  {
   "cell_type": "code",
   "execution_count": 1,
   "metadata": {},
   "outputs": [],
   "source": [
    "from scipy.linalg import expm"
   ]
  },
  {
   "cell_type": "code",
   "execution_count": 5,
   "metadata": {},
   "outputs": [
    {
     "data": {
      "text/plain": [
       "array([0, 0, 1])"
      ]
     },
     "execution_count": 5,
     "metadata": {},
     "output_type": "execute_result"
    }
   ],
   "source": [
    "np.cross([1,0,0],[0,1,0])"
   ]
  },
  {
   "cell_type": "markdown",
   "metadata": {},
   "source": [
    "# Main Code"
   ]
  },
  {
   "cell_type": "code",
   "execution_count": 8,
   "metadata": {},
   "outputs": [],
   "source": [
    "import numpy as np\n",
    "\n",
    "# cross = np.cross\n",
    "\n",
    "# 18th April, 2018\n",
    "# Related Matlab Code: Desktop\\mat-workspace\\MatlabCode-UR\n",
    "\n",
    "w=[[0, 0, 1], [1, 0, 0], [1, 0, 0], [1, 0, 0], [0, 0, 1], [0, 1, 0]];\n",
    "pj=[[0, 0, 0], [0, 0, 0], [0, 0, 5], [0, 4, 5], [0, 4, 7], [0, 5, 7]];"
   ]
  },
  {
   "cell_type": "code",
   "execution_count": 51,
   "metadata": {},
   "outputs": [],
   "source": [
    "w = np.array(w)\n",
    "pj = np.array(pj)"
   ]
  },
  {
   "cell_type": "code",
   "execution_count": null,
   "metadata": {},
   "outputs": [],
   "source": []
  },
  {
   "cell_type": "code",
   "execution_count": 15,
   "metadata": {},
   "outputs": [],
   "source": [
    "DoF = 6"
   ]
  },
  {
   "cell_type": "code",
   "execution_count": 18,
   "metadata": {},
   "outputs": [],
   "source": [
    "ksai = []\n",
    "for i in range(DoF):\n",
    "    ksai.append( np.array([cross(-w[i],q[i]), w[i]]).reshape(-1) )"
   ]
  },
  {
   "cell_type": "code",
   "execution_count": 19,
   "metadata": {},
   "outputs": [
    {
     "data": {
      "text/plain": [
       "[array([0, 0, 0, 0, 0, 1]),\n",
       " array([0, 0, 0, 1, 0, 0]),\n",
       " array([0, 5, 0, 1, 0, 0]),\n",
       " array([ 0,  5, -4,  1,  0,  0]),\n",
       " array([4, 0, 0, 0, 0, 1]),\n",
       " array([-7,  0,  0,  0,  1,  0])]"
      ]
     },
     "execution_count": 19,
     "metadata": {},
     "output_type": "execute_result"
    }
   ],
   "source": [
    "# ksai"
   ]
  },
  {
   "cell_type": "code",
   "execution_count": null,
   "metadata": {},
   "outputs": [],
   "source": []
  },
  {
   "cell_type": "code",
   "execution_count": 14,
   "metadata": {},
   "outputs": [],
   "source": [
    "ksai_wan = [np.matrix([[0, -1, 0, 0],\n",
    "[1, 0, 0, 0],\n",
    "[0, 0, 0, 0],\n",
    "[0, 0, 0, 0]]),\n",
    "\n",
    "np.matrix([[0, 0, 0, 0],\n",
    "[0, 0, -1, 0],\n",
    "[0, 1, 0, 0],\n",
    "[0, 0, 0, 0]]),\n",
    "\n",
    "np.matrix([[0, 0, 0, 0],\n",
    "[0, 0, -1, 5],\n",
    "[0, 1, 0, 0],\n",
    "[0, 0, 0, 0]]),\n",
    "\n",
    "np.matrix([[0, 0, 0, 0],\n",
    "[0, 0, -1, 5],\n",
    "[0, 1, 0, -4],\n",
    "[0, 0, 0, 0]]),\n",
    "\n",
    "np.matrix([[0, -1, 0, 4],\n",
    "[1, 0, 0, 0],\n",
    "[0, 0, 0, 0],\n",
    "[0, 0, 0, 0]]),\n",
    "\n",
    "np.matrix([[0, 0, 1, -7],\n",
    "[0, 0, 0, 0],\n",
    "[-1, 0, 0, 0],\n",
    "[0, 0, 0, 0]])]\n",
    "\n",
    "# ksai_wan = np.array(ksai_wan)"
   ]
  },
  {
   "cell_type": "code",
   "execution_count": 9,
   "metadata": {},
   "outputs": [],
   "source": [
    "tmp = np.concatenate( ( np.eye(3), np.array([pj[-1]]).T ), axis = 1 )"
   ]
  },
  {
   "cell_type": "code",
   "execution_count": 10,
   "metadata": {},
   "outputs": [],
   "source": [
    "gst0 = np.concatenate( (tmp, [[0,0,0,1]]), axis = 0)"
   ]
  },
  {
   "cell_type": "code",
   "execution_count": 20,
   "metadata": {},
   "outputs": [],
   "source": [
    "gst0 = np.matrix(gst0)"
   ]
  },
  {
   "cell_type": "code",
   "execution_count": 21,
   "metadata": {},
   "outputs": [
    {
     "data": {
      "text/plain": [
       "matrix([[ 1.,  0.,  0.,  0.],\n",
       "        [ 0.,  1.,  0.,  5.],\n",
       "        [ 0.,  0.,  1.,  7.],\n",
       "        [ 0.,  0.,  0.,  1.]])"
      ]
     },
     "execution_count": 21,
     "metadata": {},
     "output_type": "execute_result"
    }
   ],
   "source": [
    "gst0"
   ]
  },
  {
   "cell_type": "code",
   "execution_count": 38,
   "metadata": {},
   "outputs": [],
   "source": [
    "def gst(th):\n",
    "    th = np.array(th)\n",
    "    tmp = 1.0\n",
    "    for i in range(6):\n",
    "#         print( np.matrix(ksai_wan[i]*th[i]) )\n",
    "#         print(expm( ksai_wan[i]*th[i] ))\n",
    "        tmp *= expm( ksai_wan[i]*th[i] )\n",
    "\n",
    "    return tmp*gst0"
   ]
  },
  {
   "cell_type": "code",
   "execution_count": 39,
   "metadata": {
    "scrolled": false
   },
   "outputs": [
    {
     "name": "stdout",
     "output_type": "stream",
     "text": [
      "[[ 0.         -3.14159265  0.          0.        ]\n",
      " [ 3.14159265  0.          0.          0.        ]\n",
      " [ 0.          0.          0.          0.        ]\n",
      " [ 0.          0.          0.          0.        ]]\n",
      "[[ 0.  0.  0.  0.]\n",
      " [ 0.  0.  0.  0.]\n",
      " [ 0.  0.  0.  0.]\n",
      " [ 0.  0.  0.  0.]]\n",
      "[[ 0.  0.  0.  0.]\n",
      " [ 0.  0.  0.  0.]\n",
      " [ 0.  0.  0.  0.]\n",
      " [ 0.  0.  0.  0.]]\n",
      "[[ 0.  0.  0.  0.]\n",
      " [ 0.  0.  0.  0.]\n",
      " [ 0.  0.  0.  0.]\n",
      " [ 0.  0.  0.  0.]]\n",
      "[[ 0.  0.  0.  0.]\n",
      " [ 0.  0.  0.  0.]\n",
      " [ 0.  0.  0.  0.]\n",
      " [ 0.  0.  0.  0.]]\n",
      "[[  0.           0.           3.14159265 -21.99114858]\n",
      " [  0.           0.           0.           0.        ]\n",
      " [ -3.14159265   0.           0.           0.        ]\n",
      " [  0.           0.           0.           0.        ]]\n"
     ]
    },
    {
     "data": {
      "text/plain": [
       "matrix([[ 1.,  0.,  0.,  0.],\n",
       "        [ 0., -1.,  0., -5.],\n",
       "        [ 0.,  0., -1., -7.],\n",
       "        [ 0.,  0.,  0.,  1.]])"
      ]
     },
     "execution_count": 39,
     "metadata": {},
     "output_type": "execute_result"
    }
   ],
   "source": [
    "gst( [np.pi,0,0,0,0,np.pi] )"
   ]
  },
  {
   "cell_type": "code",
   "execution_count": 30,
   "metadata": {},
   "outputs": [],
   "source": [
    "theta=[2.733441446706662,0.574994187643745,-2.421370235196160,0.068983671367797,-2.681284089871026,-1.321166266591099];"
   ]
  },
  {
   "cell_type": "code",
   "execution_count": 31,
   "metadata": {
    "scrolled": false
   },
   "outputs": [
    {
     "data": {
      "text/plain": [
       "matrix([[ 0.20315085,  0.        ,  0.        ,  0.        ],\n",
       "        [ 0.        , -0.51747757,  0.        , -2.58738786],\n",
       "        [ 0.        ,  0.        , -0.15546291, -1.08824039],\n",
       "        [ 0.        ,  0.        ,  0.        ,  1.        ]])"
      ]
     },
     "execution_count": 31,
     "metadata": {},
     "output_type": "execute_result"
    }
   ],
   "source": [
    "gst(theta)"
   ]
  },
  {
   "cell_type": "code",
   "execution_count": 40,
   "metadata": {},
   "outputs": [
    {
     "name": "stdout",
     "output_type": "stream",
     "text": [
      "[[ 0 -1  0  0]\n",
      " [ 1  0  0  0]\n",
      " [ 0  0  0  0]\n",
      " [ 0  0  0  0]]\n",
      "[[0 0 0 0]\n",
      " [0 0 0 0]\n",
      " [0 0 0 0]\n",
      " [0 0 0 0]]\n",
      "[[0 0 0 0]\n",
      " [0 0 0 0]\n",
      " [0 0 0 0]\n",
      " [0 0 0 0]]\n",
      "[[0 0 0 0]\n",
      " [0 0 0 0]\n",
      " [0 0 0 0]\n",
      " [0 0 0 0]]\n",
      "[[0 0 0 0]\n",
      " [0 0 0 0]\n",
      " [0 0 0 0]\n",
      " [0 0 0 0]]\n",
      "[[0 0 0 0]\n",
      " [0 0 0 0]\n",
      " [0 0 0 0]\n",
      " [0 0 0 0]]\n"
     ]
    },
    {
     "data": {
      "text/plain": [
       "matrix([[ 0.54030231,  0.        ,  0.        ,  0.        ],\n",
       "        [ 0.        ,  0.54030231,  0.        ,  2.70151153],\n",
       "        [ 0.        ,  0.        ,  1.        ,  7.        ],\n",
       "        [ 0.        ,  0.        ,  0.        ,  1.        ]])"
      ]
     },
     "execution_count": 40,
     "metadata": {},
     "output_type": "execute_result"
    }
   ],
   "source": [
    "gst( [1,0,0,0,0,0] )"
   ]
  },
  {
   "cell_type": "code",
   "execution_count": null,
   "metadata": {},
   "outputs": [],
   "source": []
  },
  {
   "cell_type": "code",
   "execution_count": 58,
   "metadata": {},
   "outputs": [
    {
     "data": {
      "text/plain": [
       "array([ 0.,  0.,  0.,  0.,  0.,  0.])"
      ]
     },
     "execution_count": 58,
     "metadata": {},
     "output_type": "execute_result"
    }
   ],
   "source": [
    "np.zeros(6)"
   ]
  },
  {
   "cell_type": "code",
   "execution_count": null,
   "metadata": {},
   "outputs": [],
   "source": []
  }
 ],
 "metadata": {
  "kernelspec": {
   "display_name": "Python 3",
   "language": "python",
   "name": "python3"
  },
  "language_info": {
   "codemirror_mode": {
    "name": "ipython",
    "version": 3
   },
   "file_extension": ".py",
   "mimetype": "text/x-python",
   "name": "python",
   "nbconvert_exporter": "python",
   "pygments_lexer": "ipython3",
   "version": "3.5.2"
  }
 },
 "nbformat": 4,
 "nbformat_minor": 2
}
